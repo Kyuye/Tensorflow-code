{
 "cells": [
  {
   "cell_type": "markdown",
   "metadata": {},
   "source": [
    "# Random Forest 분석 "
   ]
  },
  {
   "cell_type": "markdown",
   "metadata": {},
   "source": [
    "### 1. Random Forest 정의 \n",
    "\n",
    "<p><img src=\"https://i.ytimg.com/vi/ajTc5y3OqSQ/hqdefault.jpg\" alt=\"출처 :https://www.youtube.com/watch?v=ajTc5y3OqSQ\"></p>\n",
    "##### 출처 : https://www.youtube.com/watch?v=ajTc5y3OqSQ\n",
    "\n",
    ">**랜덤포레스트는 의사결정트리를 이용해 만들어진 알고리즘**\n",
    "\n",
    ">**랜덤포레스트는 분류, 회귀 분석 등에 사용되는 앙상블 학습 방법의 일종으로,**\n",
    "\n",
    ">**훈련 과정에서 구성한 다수의 결정 트리로부터 분류 또는 평균 예측치를 출력함으로써 동작**\n",
    "\n",
    ">**즉, 랜덤포레스트란 여러 개의 의사결정트리를 만들고, 투표를 시켜 다수결로 결과를 결정하는 방법**\n",
    "\n",
    "---\n",
    "\n",
    "### 2. Random Forest 의 작동방식 \n",
    "\n",
    "- 의사결정나무를 만들 때 데이터의 일부를 복원 추출로 꺼내고 해당 데이터에 대해서만 의사결정나무를 만드는 방식.\n",
    "<p>즉, 각 의사결정나무는 데이터의 일부만을 사용해 만들어짐\n",
    "\n",
    "\n",
    "- 노드 내 데이터를 자식 노드로 나누는 기준을 정할 때 전체 변수가 아니라 일부 변수만 대상으로 하여 가지를 나눌 기준을 찾는 방법\n",
    "\n",
    "\n",
    "- Random 하게 작동하는 방식 : 데이터를 bootstrap aggregating 또는 bagging 을 통해 구성\n",
    "\n",
    "\n",
    "   - bootstrap aggregating/bagging 이란,전체 데이터를 전부 이용해서 학습시키는 것이 아니라<p>\n",
    " \n",
    "  샘플의 결과물을 각 트리의 입력 값으로 넣어 학습하는 방식. 이렇게 하면 각 트리가 서로 다른 데이터로 구축되기 때문에 랜덤성이 생기게 됨 <P>\n",
    "  또한, 파티션을 나눌 때 변수에 랜덤성을 부여하여 남아있는 모든 변수 중에서 최적의 변수를 선택하는 것이 아니라 변수 중 일부만 선택하고<P>\n",
    "  그 일부 중에서 최적의 변수를 선택. 앙상블 학습(ensemble learning) 이라고도 함 <p>\n",
    "  앙상블 학습은 주어진 데이터로부터 여러 개의 모델을 학습한 다음, 예측 시 여러 모델의 예측 결과들을 종합해 사용하여 정확도를 높이는 기법<p>\n",
    "\n",
    "---\n",
    "\n",
    "### 3. Random Forest 적용 \n",
    "\n",
    "랜덤포레스트는 아주 인기가 많고 많이 사용되는 알고리즘\n",
    "샘플링되지 않은 데이터를 테스트 데이터로 이용할 수 있기 때문에\n",
    "\n",
    "데이터 전체를 학습에 사용할 수 있으며 의사결정트리에 비해 일반화도 적용\n",
    "\n",
    "또한 오버피팅을 막을 수도 있음. 하지만 데이터 셋이 비교적 적은 경우는 학습이 잘 되지 않을 수 있음\n",
    "\n"
   ]
  },
  {
   "cell_type": "markdown",
   "metadata": {},
   "source": [
    "## Random Forest 예시코드 "
   ]
  },
  {
   "cell_type": "markdown",
   "metadata": {},
   "source": [
    "참고링크 : <p>http://scikit-learn.org/stable/modules/generated/sklearn.ensemble.RandomForestClassifier.html <p>\n",
    "parameter tuning : https://www.analyticsvidhya.com/blog/2015/06/tuning-random-forest-model/"
   ]
  },
  {
   "cell_type": "code",
   "execution_count": 53,
   "metadata": {},
   "outputs": [
    {
     "ename": "SyntaxError",
     "evalue": "invalid syntax (<ipython-input-53-5932c3321714>, line 2)",
     "output_type": "error",
     "traceback": [
      "\u001b[0;36m  File \u001b[0;32m\"<ipython-input-53-5932c3321714>\"\u001b[0;36m, line \u001b[0;32m2\u001b[0m\n\u001b[0;31m    from sklearn.datasets import ma ke_classification\u001b[0m\n\u001b[0m                                                    ^\u001b[0m\n\u001b[0;31mSyntaxError\u001b[0m\u001b[0;31m:\u001b[0m invalid syntax\n"
     ]
    }
   ],
   "source": [
    ">>> from sklearn.ensemble import RandomForestClassifier\n",
    ">>> from sklearn.datasets import ma ke_classification\n",
    ">>>\n",
    ">>> X, y = make_classification(n_samples=1000, n_features=4,\n",
    "...                            n_informative=2, n_redundant=0,\n",
    "...                            random_state=0, shuffle=False)\n",
    ">>> clf = RandomForestClassifier(max_depth=2, random_state=0)\n",
    ">>> clf.fit(X, y, sample_weight=None)\n",
    "# sample_weight : array-like, shape = [n_samples] or None\n",
    "\n",
    "RandomForestClassifier(bootstrap=True, class_weight=None, criterion='gini',\n",
    "            max_depth=2, max_features='auto', max_leaf_nodes=None,\n",
    "            min_impurity_decrease=0.0, min_impurity_split=None,\n",
    "            min_samples_leaf=1, min_samples_split=2,\n",
    "            min_weight_fraction_leaf=0.0, n_estimators=10, n_jobs=1,\n",
    "            oob_score=False, random_state=0, verbose=0, warm_start=False)\n",
    "\n",
    ">>> print(clf.feature_importances_)\n",
    "[ 0.17287856  0.80608704  0.01884792  0.00218648]\n",
    ">>> print(clf.predict([[0, 0, 0, 0]]))"
   ]
  },
  {
   "cell_type": "markdown",
   "metadata": {},
   "source": [
    "#### 실제 적용해본 간단한 예제코드 "
   ]
  },
  {
   "cell_type": "code",
   "execution_count": null,
   "metadata": {},
   "outputs": [],
   "source": [
    "up = [i for i in range(10)]\n",
    "down = [9-j for j in range(10)]\n",
    "data = np.array([up if r%2 == 0 else down for r in range(100)],np.float32)\n",
    "label=np.array([1 if r%2 == 0 else 0 for r in range(100)],np.float32)\n",
    "\n",
    "# Create a random forest classifier. By convention, clf means 'classifier'\n",
    "clf = RandomForestClassifier(n_jobs=2)\n",
    "\n",
    "# Train the classifier to take the training features and learn how they relate\n",
    "# to the training y (the species)\n",
    "clf.fit(data,label)\n",
    "pred = clf.predict(data)\n",
    "\n",
    "print(data[:4])\n",
    "print(pred[:4])\n",
    "# df = pd.DataFrame(u.data, columns=iris.feature_names)\n",
    "\n",
    "\n",
    "\n"
   ]
  },
  {
   "cell_type": "markdown",
   "metadata": {},
   "source": [
    "# Influenza dataset을 활용한 실전 분석 "
   ]
  },
  {
   "cell_type": "markdown",
   "metadata": {},
   "source": [
    "### 1. 필요한 파일 라이브러리 import "
   ]
  },
  {
   "cell_type": "code",
   "execution_count": 1,
   "metadata": {},
   "outputs": [
    {
     "ename": "ImportError",
     "evalue": "No module named model_selection",
     "output_type": "error",
     "traceback": [
      "\u001b[0;31m\u001b[0m",
      "\u001b[0;31mImportError\u001b[0mTraceback (most recent call last)",
      "\u001b[0;32m<ipython-input-1-be08792c9eb2>\u001b[0m in \u001b[0;36m<module>\u001b[0;34m()\u001b[0m\n\u001b[1;32m      2\u001b[0m \u001b[0;32mfrom\u001b[0m \u001b[0msklearn\u001b[0m\u001b[0;34m.\u001b[0m\u001b[0mmetrics\u001b[0m \u001b[0;32mimport\u001b[0m \u001b[0mroc_auc_score\u001b[0m\u001b[0;34m\u001b[0m\u001b[0m\n\u001b[1;32m      3\u001b[0m \u001b[0;32mfrom\u001b[0m \u001b[0msklearn\u001b[0m \u001b[0;32mimport\u001b[0m \u001b[0mutils\u001b[0m\u001b[0;34m\u001b[0m\u001b[0m\n\u001b[0;32m----> 4\u001b[0;31m \u001b[0;32mfrom\u001b[0m \u001b[0msklearn\u001b[0m\u001b[0;34m.\u001b[0m\u001b[0mmodel_selection\u001b[0m \u001b[0;32mimport\u001b[0m \u001b[0mtrain_test_split\u001b[0m\u001b[0;34m\u001b[0m\u001b[0m\n\u001b[0m\u001b[1;32m      5\u001b[0m \u001b[0;32mfrom\u001b[0m \u001b[0msklearn\u001b[0m\u001b[0;34m.\u001b[0m\u001b[0mmetrics\u001b[0m \u001b[0;32mimport\u001b[0m \u001b[0maccuracy_score\u001b[0m\u001b[0;34m\u001b[0m\u001b[0m\n\u001b[1;32m      6\u001b[0m \u001b[0;32mprint\u001b[0m\u001b[0;34m(\u001b[0m\u001b[0;34m\"sklearn loaded\"\u001b[0m\u001b[0;34m)\u001b[0m\u001b[0;34m\u001b[0m\u001b[0m\n",
      "\u001b[0;31mImportError\u001b[0m: No module named model_selection"
     ]
    }
   ],
   "source": [
    "from sklearn.ensemble import RandomForestClassifier\n",
    "from sklearn.metrics import roc_auc_score\n",
    "from sklearn import utils \n",
    "from sklearn.model_selection import train_test_split\n",
    "from sklearn.metrics import accuracy_score\n",
    "print(\"sklearn loaded\")"
   ]
  },
  {
   "cell_type": "code",
   "execution_count": 2,
   "metadata": {},
   "outputs": [
    {
     "name": "stdout",
     "output_type": "stream",
     "text": [
      "modules imported\n"
     ]
    }
   ],
   "source": [
    "import google.datalab.bigquery as bq\n",
    "import numpy as np\n",
    "import operator as op \n",
    "import pandas as pd\n",
    "import os\n",
    "import apache_beam as beam\n",
    "import datetime\n",
    "import os\n",
    "print(\"modules imported\")\n",
    "\n",
    "# import tensorflow as tf \n"
   ]
  },
  {
   "cell_type": "code",
   "execution_count": 21,
   "metadata": {
    "collapsed": true
   },
   "outputs": [],
   "source": [
    "# FLAGS = tf.flags.FLAGS\n",
    "# tf.flags.DEFINE_integer(\"max_depth\", 10000, \"vocabulary size\")\n",
    "# tf.flags.DEFINE_float(\"min_impurity_decrease\", 10000, \"vocabulary size\")\n",
    "# tf.flags.DEFINE_integer(\"min_samples_leaf\", 10000, \"vocabulary size\")\n",
    "# tf.flags.DEFINE_integer(\"min_samples_split\", 10000, \"vocabulary size\")\n",
    "# tf.flags.DEFINE_float(\"min_weight_fraction_leaf\", 10000, \"vocabulary size\")\n",
    "# tf.flags.DEFINE_integer(\"n_estimators, 10000, \"vocabulary size\")\n",
    "# tf.flags.DEFINE_integer(\"n_jobs, 10000, \"vocabulary size\")                \n",
    "# tf.flags.DEFINE_integer(\"random_state, 10000, \"vocabulary size\")                \n",
    "# tf.flags.DEFINE_integer(\"verbose, 10000, \"vocabulary size\")                                        \n",
    "# tf.flags.DEFINE_bool(\"bootstrap\", True, \"run on cloud or local\")\n",
    "# tf.flags.DEFINE_bool(\"oob_score\", True, \"run on cloud or local\")\n",
    "# tf.flags.DEFINE_bool(\"warm_start\", True, \"run on cloud or local\")     \n",
    "# tf.flags.DEFINE_string(\"train_data\", \"/dataset/twitter_emotion_v2(p,n,N).csv\", \"train data path\")                        "
   ]
  },
  {
   "cell_type": "markdown",
   "metadata": {},
   "source": [
    "### 2. BigQuery로 전처리가 완료된 dataset을 qeury로 불러오기"
   ]
  },
  {
   "cell_type": "markdown",
   "metadata": {},
   "source": [
    "#### Random forest는 logic level로 분석하기 때문에, 사칙연산을 위한 one-hot vector로 변환하지않고 integer array dataset을 바로 적용함 "
   ]
  },
  {
   "cell_type": "code",
   "execution_count": 41,
   "metadata": {},
   "outputs": [],
   "source": [
    "query = \"\"\"\n",
    "#standard\n",
    "select \n",
    "replace(replace(replace(replace(replace(replace(replace(replace(replace(replace(replace(\n",
    "host_species,\n",
    "\"IRD:Chicken/Avian\", \"1\"),\n",
    "\"IRD:Duck/Avian\", \"2\"),\n",
    "\"IRD:Mallard/Avian\", \"3\"),\n",
    "\"IRD:Environment\", \"4\"),\n",
    "\"IRD:Goose/Avian\", \"5\"),\n",
    "\"IRD:Muscovy Duck/Avian\", \"6\"),\n",
    "\"IRD:Human\", \"7\"),\n",
    "\"IRD:Turkey/Avian\", \"8\" ),\n",
    "\"IRD:Openbill Stork/Avian\", \"9\"),\n",
    "\"IRD:Baikal Teal/Avian\", \"10\"),\n",
    "\"IRD:Swine\", \"11\") as label,\n",
    "\n",
    "replace(replace(replace(replace(regexp_replace(\n",
    "   rpad(sequence, 2429, \"P\"),\n",
    "   \"[^ATGC]\", \",0\"),\n",
    "   \"A\", \",1\"),\n",
    "   \"T\", \",2\"),\n",
    "   \"G\", \",3\"),\n",
    "   \"C\", \",4\") as train_sequence,\n",
    "   \n",
    "replace(replace(replace(replace(replace(replace(\n",
    "subtype,\n",
    "\"H5N1\", \"1\"),\n",
    "\"H5N2\", \"2\"),\n",
    "\"H5N3\", \"3\"),\n",
    "\"H5N4\", \"4\"),\n",
    "\"H5N5\", \"5\"),\n",
    "\"H5N6\", \"6\"),\n",
    "\"H5N7\", \"7\"),\n",
    "\"H5N8\", \"8\") as train_subtype,\n",
    "\n",
    "# replace(replace(replace(replace(replace(replace(\n",
    "# country,\n",
    "# \"Slovenia\", \"1\"),\n",
    "# \"Israel\", \"2\"),\n",
    "# \"Saudi Arabia\", \"3\"),\n",
    "# \"Thailand\",\"4\"),\n",
    "# \"Belgium\",\"5\"),\n",
    "# \"Portugal\",\"6\"),\n",
    "# \"Germany\",\"7\"),\n",
    "# \"Taiwan\",\"8),\n",
    "# \"United Kingdom\",\"9\"),\n",
    "# \"Ireland\",\"10\"),\n",
    "# \"Kuwait\",\"11\"),\n",
    "# \"Mongolia\",\"12\"),\n",
    "# \"Myanmar\",\"13\"),\n",
    "# \"Ukraine\",\"14\"),\n",
    "# \"Canada\",\"15\")\n",
    "\n",
    "segment as train_segment,\n",
    "collection_data as train_date\n",
    "\n",
    "from genome.influenza_sequence\n",
    "where host_species = \"IRD:Chicken/Avian\" \n",
    "or host_species = \"IRD:Duck/Avian\" \n",
    "or host_species = \"IRD:Mallard/Avian\"\n",
    "or host_species = \"IRD:Environment\"\n",
    "or host_species = \"IRD:Goose/Avian\" \n",
    "or host_species = \"IRD:Muscovy Duck/Avian\" \n",
    "or host_species = \"IRD:Human\" \n",
    "or host_species = \"IRD:Turkey/Avian\" \n",
    "or host_species = \"IRD:Openbill Stork/Avian\" \n",
    "or host_species = \"IRD:Baikal Teal/Avian\" \n",
    "or host_species = \"IRD:Swine\" \n",
    "\"\"\"\n",
    "\n",
    "# df = bq.Query(query).execute().result().to_dataframe()"
   ]
  },
  {
   "cell_type": "code",
   "execution_count": 4,
   "metadata": {},
   "outputs": [],
   "source": [
    "\n",
    "\n",
    "job_name = 'preprocess-babyweight-features' + '-' + datetime.datetime.now().strftime('%y%m%d-%H%M%S')\n",
    "OUTPUT_DIR = './preprocessed_dataset/'\n",
    "PROJECT = 'tensorflowprojects'\n",
    "options = {\n",
    "    'staging_location': os.path.join(OUTPUT_DIR, 'tmp', 'staging'),\n",
    "    'temp_location': os.path.join(OUTPUT_DIR, 'tmp'),\n",
    "    'job_name': job_name,\n",
    "    'project': PROJECT,\n",
    "    'teardown_policy': 'TEARDOWN_ALWAYS',\n",
    "    'no_save_main_session': True\n",
    "  }\n",
    "\n",
    "opts = beam.pipeline.PipelineOptions(flags=[], **options)\n",
    "RUNNER = 'DirectRunner'\n",
    "p = beam.Pipeline(RUNNER, options=opts)"
   ]
  },
  {
   "cell_type": "code",
   "execution_count": 5,
   "metadata": {
    "collapsed": true
   },
   "outputs": [],
   "source": [
    "def to_csv(rowdict):\n",
    "    dataset = str(rowdict['label']) + rowdict['train']\n",
    "\n",
    "    return dataset"
   ]
  },
  {
   "cell_type": "code",
   "execution_count": 6,
   "metadata": {},
   "outputs": [
    {
     "data": {
      "text/plain": [
       "<PCollection[proc_data/WriteToText/Write/WriteImpl/finalize_write.None] at 0x7f2b17bf4f10>"
      ]
     },
     "execution_count": 6,
     "metadata": {},
     "output_type": "execute_result"
    }
   ],
   "source": [
    "cols = \"species, \" + \", \".join([\"seq_\"+str(i) for i in range(2429)])\n",
    "(p |'read_data' >> beam.io.Read(beam.io.BigQuerySource(query=query, use_standard_sql=True))\n",
    " | 'preprocessing' >> beam.Map(to_csv)\n",
    " | 'proc_data' >> beam.io.Write(beam.io.WriteToText(os.path.join(OUTPUT_DIR, '10_species'), file_name_suffix='.csv', header=cols)))"
   ]
  },
  {
   "cell_type": "code",
   "execution_count": 7,
   "metadata": {},
   "outputs": [
    {
     "name": "stderr",
     "output_type": "stream",
     "text": [
      "WARNING:root:Dataset does not exist so we will create it\n"
     ]
    }
   ],
   "source": [
    "job = p.run()"
   ]
  },
  {
   "cell_type": "markdown",
   "metadata": {},
   "source": [
    "## <p> csv 파일로 저장된 데이터셋 불러와서 사용가능한 label, train 데이터셋으로 만들기</p>"
   ]
  },
  {
   "cell_type": "markdown",
   "metadata": {},
   "source": [
    "* train으로 사용할 데이터 : DNA sequence, subtype, segment, collection_data, country  \n",
    "* label로 사용할 데이터 : host_species "
   ]
  },
  {
   "cell_type": "code",
   "execution_count": 10,
   "metadata": {},
   "outputs": [
    {
     "data": {
      "text/html": [
       "\n",
       "    <div class=\"bqtv\" id=\"3_150348034354\"><table><tr><th>subtype</th><th>counts</th></tr><tr><td>H5N1</td><td>10198</td></tr><tr><td>H5N2</td><td>4003</td></tr><tr><td>H5N8</td><td>1490</td></tr><tr><td>H5N6</td><td>1461</td></tr><tr><td>H5N3</td><td>530</td></tr><tr><td>H5N5</td><td>296</td></tr><tr><td>mixed</td><td>162</td></tr><tr><td>H5N9</td><td>112</td></tr><tr><td>H5N7</td><td>48</td></tr><tr><td>(H5)</td><td>24</td></tr><tr><td>(N2)</td><td>11</td></tr><tr><td>H5N4</td><td>8</td></tr><tr><td>(N6)</td><td>8</td></tr><tr><td>(N8)</td><td>5</td></tr><tr><td>(H4)</td><td>5</td></tr><tr><td>(H7)</td><td>4</td></tr><tr><td>(N3)</td><td>3</td></tr><tr><td>(H9)</td><td>3</td></tr><tr><td>(N1)</td><td>3</td></tr><tr><td>(H6)</td><td>2</td></tr><tr><td>(H3)</td><td>2</td></tr><tr><td>(N9)</td><td>2</td></tr><tr><td>(H11)</td><td>2</td></tr><tr><td>(N5)</td><td>1</td></tr><tr><td>(H2)</td><td>1</td></tr></table></div>\n",
       "    <br />(rows: 25, time: 1.2s,   110KB processed, job: job_eL5wj8vF543VDElC-bDJ0sBJCUrP)<br />\n",
       "    <script>\n",
       "\n",
       "      require.config({\n",
       "        paths: {\n",
       "          d3: '//cdnjs.cloudflare.com/ajax/libs/d3/3.4.13/d3',\n",
       "          plotly: 'https://cdn.plot.ly/plotly-1.5.1.min.js?noext',\n",
       "          jquery: '//ajax.googleapis.com/ajax/libs/jquery/2.0.0/jquery.min'\n",
       "        },\n",
       "        map: {\n",
       "          '*': {\n",
       "            datalab: 'nbextensions/gcpdatalab'\n",
       "          }\n",
       "        },\n",
       "        shim: {\n",
       "          plotly: {\n",
       "            deps: ['d3', 'jquery'],\n",
       "            exports: 'plotly'\n",
       "          }\n",
       "        }\n",
       "      });\n",
       "\n",
       "      require(['datalab/charting', 'datalab/element!3_150348034354', 'base/js/events',\n",
       "          'datalab/style!/nbextensions/gcpdatalab/charting.css'],\n",
       "        function(charts, dom, events) {\n",
       "          charts.render('gcharts', dom, events, 'table', [], {\"rows\": [{\"c\": [{\"v\": \"H5N1\"}, {\"v\": 10198}]}, {\"c\": [{\"v\": \"H5N2\"}, {\"v\": 4003}]}, {\"c\": [{\"v\": \"H5N8\"}, {\"v\": 1490}]}, {\"c\": [{\"v\": \"H5N6\"}, {\"v\": 1461}]}, {\"c\": [{\"v\": \"H5N3\"}, {\"v\": 530}]}, {\"c\": [{\"v\": \"H5N5\"}, {\"v\": 296}]}, {\"c\": [{\"v\": \"mixed\"}, {\"v\": 162}]}, {\"c\": [{\"v\": \"H5N9\"}, {\"v\": 112}]}, {\"c\": [{\"v\": \"H5N7\"}, {\"v\": 48}]}, {\"c\": [{\"v\": \"(H5)\"}, {\"v\": 24}]}, {\"c\": [{\"v\": \"(N2)\"}, {\"v\": 11}]}, {\"c\": [{\"v\": \"H5N4\"}, {\"v\": 8}]}, {\"c\": [{\"v\": \"(N6)\"}, {\"v\": 8}]}, {\"c\": [{\"v\": \"(N8)\"}, {\"v\": 5}]}, {\"c\": [{\"v\": \"(H4)\"}, {\"v\": 5}]}, {\"c\": [{\"v\": \"(H7)\"}, {\"v\": 4}]}, {\"c\": [{\"v\": \"(N3)\"}, {\"v\": 3}]}, {\"c\": [{\"v\": \"(H9)\"}, {\"v\": 3}]}, {\"c\": [{\"v\": \"(N1)\"}, {\"v\": 3}]}, {\"c\": [{\"v\": \"(H6)\"}, {\"v\": 2}]}, {\"c\": [{\"v\": \"(H3)\"}, {\"v\": 2}]}, {\"c\": [{\"v\": \"(N9)\"}, {\"v\": 2}]}, {\"c\": [{\"v\": \"(H11)\"}, {\"v\": 2}]}, {\"c\": [{\"v\": \"(N5)\"}, {\"v\": 1}]}, {\"c\": [{\"v\": \"(H2)\"}, {\"v\": 1}]}], \"cols\": [{\"type\": \"string\", \"id\": \"subtype\", \"label\": \"subtype\"}, {\"type\": \"number\", \"id\": \"counts\", \"label\": \"counts\"}]},\n",
       "            {\n",
       "              pageSize: 25,\n",
       "              cssClassNames:  {\n",
       "                tableRow: 'gchart-table-row',\n",
       "                headerRow: 'gchart-table-headerrow',\n",
       "                oddTableRow: 'gchart-table-oddrow',\n",
       "                selectedTableRow: 'gchart-table-selectedrow',\n",
       "                hoverTableRow: 'gchart-table-hoverrow',\n",
       "                tableCell: 'gchart-table-cell',\n",
       "                headerCell: 'gchart-table-headercell',\n",
       "                rowNumberCell: 'gchart-table-rownumcell'\n",
       "              }\n",
       "            },\n",
       "            {source_index: 2, fields: 'subtype,counts', legacy: 'true'},\n",
       "            0,\n",
       "            25);\n",
       "        }\n",
       "      );\n",
       "    </script>\n",
       "  "
      ],
      "text/plain": [
       "QueryResultsTable job_eL5wj8vF543VDElC-bDJ0sBJCUrP"
      ]
     },
     "execution_count": 10,
     "metadata": {},
     "output_type": "execute_result"
    }
   ],
   "source": [
    "%%sql -d standard\n",
    "select subtype, count(subtype) as counts\n",
    "from genome.influenza_sequence_preproc\n",
    "group by subtype\n",
    "order by counts desc"
   ]
  },
  {
   "cell_type": "code",
   "execution_count": 11,
   "metadata": {},
   "outputs": [
    {
     "data": {
      "text/html": [
       "\n",
       "    <div class=\"bqtv\" id=\"4_150348055641\"><table><tr><th>collection_data</th><th>counts</th></tr><tr><td>2006</td><td>1241</td></tr><tr><td>2005</td><td>1185</td></tr><tr><td>2007</td><td>848</td></tr><tr><td>2004</td><td>703</td></tr><tr><td>08/15/2015</td><td>304</td></tr><tr><td>01/17/2015</td><td>296</td></tr><tr><td>01/20/2014</td><td>192</td></tr><tr><td>08/11/2011</td><td>192</td></tr><tr><td>2008</td><td>174</td></tr><tr><td>2003</td><td>152</td></tr><tr><td>02/2011</td><td>136</td></tr><tr><td>1997</td><td>135</td></tr><tr><td>06/17/2012</td><td>128</td></tr><tr><td>03/2010</td><td>120</td></tr><tr><td>2002</td><td>116</td></tr><tr><td>12/21/2014</td><td>112</td></tr><tr><td>01/10/2013</td><td>104</td></tr><tr><td>01/2015</td><td>104</td></tr><tr><td>2009</td><td>96</td></tr><tr><td>08/02/2006</td><td>93</td></tr><tr><td>1983</td><td>93</td></tr><tr><td>2010</td><td>90</td></tr><tr><td>07/27/2014</td><td>88</td></tr><tr><td>01/25/2012</td><td>88</td></tr><tr><td>01/2011</td><td>88</td></tr></table></div>\n",
       "    <br />(rows: 791, time: 1.5s,   183KB processed, job: job_FOCCrMdL3R2Qk0jAbZ8Q8LFkqlLE)<br />\n",
       "    <script>\n",
       "\n",
       "      require.config({\n",
       "        paths: {\n",
       "          d3: '//cdnjs.cloudflare.com/ajax/libs/d3/3.4.13/d3',\n",
       "          plotly: 'https://cdn.plot.ly/plotly-1.5.1.min.js?noext',\n",
       "          jquery: '//ajax.googleapis.com/ajax/libs/jquery/2.0.0/jquery.min'\n",
       "        },\n",
       "        map: {\n",
       "          '*': {\n",
       "            datalab: 'nbextensions/gcpdatalab'\n",
       "          }\n",
       "        },\n",
       "        shim: {\n",
       "          plotly: {\n",
       "            deps: ['d3', 'jquery'],\n",
       "            exports: 'plotly'\n",
       "          }\n",
       "        }\n",
       "      });\n",
       "\n",
       "      require(['datalab/charting', 'datalab/element!4_150348055641', 'base/js/events',\n",
       "          'datalab/style!/nbextensions/gcpdatalab/charting.css'],\n",
       "        function(charts, dom, events) {\n",
       "          charts.render('gcharts', dom, events, 'paged_table', [], {\"rows\": [{\"c\": [{\"v\": \"2006\"}, {\"v\": 1241}]}, {\"c\": [{\"v\": \"2005\"}, {\"v\": 1185}]}, {\"c\": [{\"v\": \"2007\"}, {\"v\": 848}]}, {\"c\": [{\"v\": \"2004\"}, {\"v\": 703}]}, {\"c\": [{\"v\": \"08/15/2015\"}, {\"v\": 304}]}, {\"c\": [{\"v\": \"01/17/2015\"}, {\"v\": 296}]}, {\"c\": [{\"v\": \"01/20/2014\"}, {\"v\": 192}]}, {\"c\": [{\"v\": \"08/11/2011\"}, {\"v\": 192}]}, {\"c\": [{\"v\": \"2008\"}, {\"v\": 174}]}, {\"c\": [{\"v\": \"2003\"}, {\"v\": 152}]}, {\"c\": [{\"v\": \"02/2011\"}, {\"v\": 136}]}, {\"c\": [{\"v\": \"1997\"}, {\"v\": 135}]}, {\"c\": [{\"v\": \"06/17/2012\"}, {\"v\": 128}]}, {\"c\": [{\"v\": \"03/2010\"}, {\"v\": 120}]}, {\"c\": [{\"v\": \"2002\"}, {\"v\": 116}]}, {\"c\": [{\"v\": \"12/21/2014\"}, {\"v\": 112}]}, {\"c\": [{\"v\": \"01/10/2013\"}, {\"v\": 104}]}, {\"c\": [{\"v\": \"01/2015\"}, {\"v\": 104}]}, {\"c\": [{\"v\": \"2009\"}, {\"v\": 96}]}, {\"c\": [{\"v\": \"08/02/2006\"}, {\"v\": 93}]}, {\"c\": [{\"v\": \"1983\"}, {\"v\": 93}]}, {\"c\": [{\"v\": \"2010\"}, {\"v\": 90}]}, {\"c\": [{\"v\": \"07/27/2014\"}, {\"v\": 88}]}, {\"c\": [{\"v\": \"01/25/2012\"}, {\"v\": 88}]}, {\"c\": [{\"v\": \"01/2011\"}, {\"v\": 88}]}], \"cols\": [{\"type\": \"string\", \"id\": \"collection_data\", \"label\": \"collection_data\"}, {\"type\": \"number\", \"id\": \"counts\", \"label\": \"counts\"}]},\n",
       "            {\n",
       "              pageSize: 25,\n",
       "              cssClassNames:  {\n",
       "                tableRow: 'gchart-table-row',\n",
       "                headerRow: 'gchart-table-headerrow',\n",
       "                oddTableRow: 'gchart-table-oddrow',\n",
       "                selectedTableRow: 'gchart-table-selectedrow',\n",
       "                hoverTableRow: 'gchart-table-hoverrow',\n",
       "                tableCell: 'gchart-table-cell',\n",
       "                headerCell: 'gchart-table-headercell',\n",
       "                rowNumberCell: 'gchart-table-rownumcell'\n",
       "              }\n",
       "            },\n",
       "            {source_index: 3, fields: 'collection_data,counts', legacy: 'true'},\n",
       "            0,\n",
       "            791);\n",
       "        }\n",
       "      );\n",
       "    </script>\n",
       "  "
      ],
      "text/plain": [
       "QueryResultsTable job_FOCCrMdL3R2Qk0jAbZ8Q8LFkqlLE"
      ]
     },
     "execution_count": 11,
     "metadata": {},
     "output_type": "execute_result"
    }
   ],
   "source": [
    "%%sql -d standard\n",
    "select collection_data, count(collection_data) as counts\n",
    "from genome.influenza_sequence_preproc\n",
    "group by collection_data\n",
    "order by counts desc"
   ]
  },
  {
   "cell_type": "code",
   "execution_count": 38,
   "metadata": {},
   "outputs": [
    {
     "data": {
      "text/html": [
       "\n",
       "    <div class=\"bqtv\" id=\"30_150348232176\"><table><tr><th>fragment</th></tr><tr><td>&nbsp;</td></tr><tr><td>1959</td></tr><tr><td>1961</td></tr><tr><td>1966</td></tr><tr><td>1968</td></tr><tr><td>1972</td></tr><tr><td>1975</td></tr><tr><td>1976</td></tr><tr><td>1977</td></tr><tr><td>1978</td></tr><tr><td>1979</td></tr><tr><td>1980</td></tr><tr><td>1981</td></tr><tr><td>1982</td></tr><tr><td>1983</td></tr><tr><td>1984</td></tr><tr><td>1985</td></tr><tr><td>1986</td></tr><tr><td>1987</td></tr><tr><td>1988</td></tr><tr><td>1989</td></tr><tr><td>1991</td></tr><tr><td>1993</td></tr><tr><td>1994</td></tr><tr><td>1995</td></tr></table></div>\n",
       "    <br />(rows: 45, time: 1.3s,   183KB processed, job: job_1XUTwkL0FTZt08TbpkiQkZ5yryJS)<br />\n",
       "    <script>\n",
       "\n",
       "      require.config({\n",
       "        paths: {\n",
       "          d3: '//cdnjs.cloudflare.com/ajax/libs/d3/3.4.13/d3',\n",
       "          plotly: 'https://cdn.plot.ly/plotly-1.5.1.min.js?noext',\n",
       "          jquery: '//ajax.googleapis.com/ajax/libs/jquery/2.0.0/jquery.min'\n",
       "        },\n",
       "        map: {\n",
       "          '*': {\n",
       "            datalab: 'nbextensions/gcpdatalab'\n",
       "          }\n",
       "        },\n",
       "        shim: {\n",
       "          plotly: {\n",
       "            deps: ['d3', 'jquery'],\n",
       "            exports: 'plotly'\n",
       "          }\n",
       "        }\n",
       "      });\n",
       "\n",
       "      require(['datalab/charting', 'datalab/element!30_150348232176', 'base/js/events',\n",
       "          'datalab/style!/nbextensions/gcpdatalab/charting.css'],\n",
       "        function(charts, dom, events) {\n",
       "          charts.render('gcharts', dom, events, 'paged_table', [], {\"rows\": [{\"c\": [{\"v\": null}]}, {\"c\": [{\"v\": \"1959\"}]}, {\"c\": [{\"v\": \"1961\"}]}, {\"c\": [{\"v\": \"1966\"}]}, {\"c\": [{\"v\": \"1968\"}]}, {\"c\": [{\"v\": \"1972\"}]}, {\"c\": [{\"v\": \"1975\"}]}, {\"c\": [{\"v\": \"1976\"}]}, {\"c\": [{\"v\": \"1977\"}]}, {\"c\": [{\"v\": \"1978\"}]}, {\"c\": [{\"v\": \"1979\"}]}, {\"c\": [{\"v\": \"1980\"}]}, {\"c\": [{\"v\": \"1981\"}]}, {\"c\": [{\"v\": \"1982\"}]}, {\"c\": [{\"v\": \"1983\"}]}, {\"c\": [{\"v\": \"1984\"}]}, {\"c\": [{\"v\": \"1985\"}]}, {\"c\": [{\"v\": \"1986\"}]}, {\"c\": [{\"v\": \"1987\"}]}, {\"c\": [{\"v\": \"1988\"}]}, {\"c\": [{\"v\": \"1989\"}]}, {\"c\": [{\"v\": \"1991\"}]}, {\"c\": [{\"v\": \"1993\"}]}, {\"c\": [{\"v\": \"1994\"}]}, {\"c\": [{\"v\": \"1995\"}]}], \"cols\": [{\"type\": \"string\", \"id\": \"fragment\", \"label\": \"fragment\"}]},\n",
       "            {\n",
       "              pageSize: 25,\n",
       "              cssClassNames:  {\n",
       "                tableRow: 'gchart-table-row',\n",
       "                headerRow: 'gchart-table-headerrow',\n",
       "                oddTableRow: 'gchart-table-oddrow',\n",
       "                selectedTableRow: 'gchart-table-selectedrow',\n",
       "                hoverTableRow: 'gchart-table-hoverrow',\n",
       "                tableCell: 'gchart-table-cell',\n",
       "                headerCell: 'gchart-table-headercell',\n",
       "                rowNumberCell: 'gchart-table-rownumcell'\n",
       "              }\n",
       "            },\n",
       "            {source_index: 25, fields: 'fragment', legacy: 'true'},\n",
       "            0,\n",
       "            45);\n",
       "        }\n",
       "      );\n",
       "    </script>\n",
       "  "
      ],
      "text/plain": [
       "QueryResultsTable job_1XUTwkL0FTZt08TbpkiQkZ5yryJS"
      ]
     },
     "execution_count": 38,
     "metadata": {},
     "output_type": "execute_result"
    }
   ],
   "source": [
    "%%sql -d standard\n",
    "SELECT\n",
    "REGEXP_EXTRACT(regexp_replace(collection_data, \"../|../../|''\", \"\"), '20..|10..') AS fragment\n",
    "from genome.influenza_sequence_preproc\n",
    "GROUP BY fragment\n",
    "ORDER BY fragment\n"
   ]
  },
  {
   "cell_type": "code",
   "execution_count": 39,
   "metadata": {},
   "outputs": [
    {
     "data": {
      "text/html": [
       "\n",
       "    <div class=\"bqtv\" id=\"31_150348241303\"><table><tr><th>country</th><th>counts</th></tr><tr><td>China</td><td>3647</td></tr><tr><td>USA</td><td>3644</td></tr><tr><td>Viet Nam</td><td>3083</td></tr><tr><td>South Korea</td><td>848</td></tr><tr><td>Taiwan</td><td>760</td></tr><tr><td>Egypt</td><td>730</td></tr><tr><td>Japan</td><td>637</td></tr><tr><td>Indonesia</td><td>593</td></tr><tr><td>Thailand</td><td>569</td></tr><tr><td>Russia</td><td>400</td></tr><tr><td>Bhutan</td><td>360</td></tr><tr><td>Bangladesh</td><td>304</td></tr><tr><td>Hong Kong</td><td>269</td></tr><tr><td>Laos</td><td>266</td></tr><tr><td>India</td><td>216</td></tr><tr><td>Canada</td><td>193</td></tr><tr><td>Netherlands</td><td>184</td></tr><tr><td>Italy</td><td>164</td></tr><tr><td>Mexico</td><td>147</td></tr><tr><td>Cambodia</td><td>128</td></tr><tr><td>Ghana</td><td>112</td></tr><tr><td>Germany</td><td>99</td></tr><tr><td>Mongolia</td><td>86</td></tr><tr><td>Nigeria</td><td>83</td></tr><tr><td>France</td><td>80</td></tr></table></div>\n",
       "    <br />(rows: 56, time: 1.8s,   149KB processed, job: job_ox69oaS07M295ro21K7cG_ILqUM5)<br />\n",
       "    <script>\n",
       "\n",
       "      require.config({\n",
       "        paths: {\n",
       "          d3: '//cdnjs.cloudflare.com/ajax/libs/d3/3.4.13/d3',\n",
       "          plotly: 'https://cdn.plot.ly/plotly-1.5.1.min.js?noext',\n",
       "          jquery: '//ajax.googleapis.com/ajax/libs/jquery/2.0.0/jquery.min'\n",
       "        },\n",
       "        map: {\n",
       "          '*': {\n",
       "            datalab: 'nbextensions/gcpdatalab'\n",
       "          }\n",
       "        },\n",
       "        shim: {\n",
       "          plotly: {\n",
       "            deps: ['d3', 'jquery'],\n",
       "            exports: 'plotly'\n",
       "          }\n",
       "        }\n",
       "      });\n",
       "\n",
       "      require(['datalab/charting', 'datalab/element!31_150348241303', 'base/js/events',\n",
       "          'datalab/style!/nbextensions/gcpdatalab/charting.css'],\n",
       "        function(charts, dom, events) {\n",
       "          charts.render('gcharts', dom, events, 'paged_table', [], {\"rows\": [{\"c\": [{\"v\": \"China\"}, {\"v\": 3647}]}, {\"c\": [{\"v\": \"USA\"}, {\"v\": 3644}]}, {\"c\": [{\"v\": \"Viet Nam\"}, {\"v\": 3083}]}, {\"c\": [{\"v\": \"South Korea\"}, {\"v\": 848}]}, {\"c\": [{\"v\": \"Taiwan\"}, {\"v\": 760}]}, {\"c\": [{\"v\": \"Egypt\"}, {\"v\": 730}]}, {\"c\": [{\"v\": \"Japan\"}, {\"v\": 637}]}, {\"c\": [{\"v\": \"Indonesia\"}, {\"v\": 593}]}, {\"c\": [{\"v\": \"Thailand\"}, {\"v\": 569}]}, {\"c\": [{\"v\": \"Russia\"}, {\"v\": 400}]}, {\"c\": [{\"v\": \"Bhutan\"}, {\"v\": 360}]}, {\"c\": [{\"v\": \"Bangladesh\"}, {\"v\": 304}]}, {\"c\": [{\"v\": \"Hong Kong\"}, {\"v\": 269}]}, {\"c\": [{\"v\": \"Laos\"}, {\"v\": 266}]}, {\"c\": [{\"v\": \"India\"}, {\"v\": 216}]}, {\"c\": [{\"v\": \"Canada\"}, {\"v\": 193}]}, {\"c\": [{\"v\": \"Netherlands\"}, {\"v\": 184}]}, {\"c\": [{\"v\": \"Italy\"}, {\"v\": 164}]}, {\"c\": [{\"v\": \"Mexico\"}, {\"v\": 147}]}, {\"c\": [{\"v\": \"Cambodia\"}, {\"v\": 128}]}, {\"c\": [{\"v\": \"Ghana\"}, {\"v\": 112}]}, {\"c\": [{\"v\": \"Germany\"}, {\"v\": 99}]}, {\"c\": [{\"v\": \"Mongolia\"}, {\"v\": 86}]}, {\"c\": [{\"v\": \"Nigeria\"}, {\"v\": 83}]}, {\"c\": [{\"v\": \"France\"}, {\"v\": 80}]}], \"cols\": [{\"type\": \"string\", \"id\": \"country\", \"label\": \"country\"}, {\"type\": \"number\", \"id\": \"counts\", \"label\": \"counts\"}]},\n",
       "            {\n",
       "              pageSize: 25,\n",
       "              cssClassNames:  {\n",
       "                tableRow: 'gchart-table-row',\n",
       "                headerRow: 'gchart-table-headerrow',\n",
       "                oddTableRow: 'gchart-table-oddrow',\n",
       "                selectedTableRow: 'gchart-table-selectedrow',\n",
       "                hoverTableRow: 'gchart-table-hoverrow',\n",
       "                tableCell: 'gchart-table-cell',\n",
       "                headerCell: 'gchart-table-headercell',\n",
       "                rowNumberCell: 'gchart-table-rownumcell'\n",
       "              }\n",
       "            },\n",
       "            {source_index: 26, fields: 'country,counts', legacy: 'true'},\n",
       "            0,\n",
       "            56);\n",
       "        }\n",
       "      );\n",
       "    </script>\n",
       "  "
      ],
      "text/plain": [
       "QueryResultsTable job_ox69oaS07M295ro21K7cG_ILqUM5"
      ]
     },
     "execution_count": 39,
     "metadata": {},
     "output_type": "execute_result"
    }
   ],
   "source": [
    "%%sql -d standard\n",
    "select country, count(country) as counts\n",
    "from genome.influenza_sequence_preproc\n",
    "group by country \n",
    "order by counts desc"
   ]
  },
  {
   "cell_type": "code",
   "execution_count": 43,
   "metadata": {},
   "outputs": [
    {
     "data": {
      "text/html": [
       "\n",
       "    <div class=\"bqtv\" id=\"33_150349539074\"><table><tr><th>country</th></tr><tr><td>Slovenia</td></tr><tr><td>Israel</td></tr><tr><td>Saudi Arabia</td></tr><tr><td>Thailand</td></tr><tr><td>Belgium</td></tr><tr><td>Portugal</td></tr><tr><td>Germany</td></tr><tr><td>Taiwan</td></tr><tr><td>United Kingdom</td></tr><tr><td>Ireland</td></tr><tr><td>Kuwait</td></tr><tr><td>Mongolia</td></tr><tr><td>Myanmar</td></tr><tr><td>Ukraine</td></tr><tr><td>Canada</td></tr><tr><td>Sudan</td></tr><tr><td>Pakistan</td></tr><tr><td>Netherlands</td></tr><tr><td>Japan</td></tr><tr><td>Indonesia</td></tr><tr><td>Viet Nam</td></tr><tr><td>Malaysia</td></tr><tr><td>Poland</td></tr><tr><td>USA</td></tr><tr><td>Bangladesh</td></tr></table></div>\n",
       "    <br />(rows: 56, time: 1.0s,   149KB processed, job: job_NmXaaXC3igZ-84crb0CxvzwVh6g2)<br />\n",
       "    <script>\n",
       "\n",
       "      require.config({\n",
       "        paths: {\n",
       "          d3: '//cdnjs.cloudflare.com/ajax/libs/d3/3.4.13/d3',\n",
       "          plotly: 'https://cdn.plot.ly/plotly-1.5.1.min.js?noext',\n",
       "          jquery: '//ajax.googleapis.com/ajax/libs/jquery/2.0.0/jquery.min'\n",
       "        },\n",
       "        map: {\n",
       "          '*': {\n",
       "            datalab: 'nbextensions/gcpdatalab'\n",
       "          }\n",
       "        },\n",
       "        shim: {\n",
       "          plotly: {\n",
       "            deps: ['d3', 'jquery'],\n",
       "            exports: 'plotly'\n",
       "          }\n",
       "        }\n",
       "      });\n",
       "\n",
       "      require(['datalab/charting', 'datalab/element!33_150349539074', 'base/js/events',\n",
       "          'datalab/style!/nbextensions/gcpdatalab/charting.css'],\n",
       "        function(charts, dom, events) {\n",
       "          charts.render('gcharts', dom, events, 'paged_table', [], {\"rows\": [{\"c\": [{\"v\": \"Slovenia\"}]}, {\"c\": [{\"v\": \"Israel\"}]}, {\"c\": [{\"v\": \"Saudi Arabia\"}]}, {\"c\": [{\"v\": \"Thailand\"}]}, {\"c\": [{\"v\": \"Belgium\"}]}, {\"c\": [{\"v\": \"Portugal\"}]}, {\"c\": [{\"v\": \"Germany\"}]}, {\"c\": [{\"v\": \"Taiwan\"}]}, {\"c\": [{\"v\": \"United Kingdom\"}]}, {\"c\": [{\"v\": \"Ireland\"}]}, {\"c\": [{\"v\": \"Kuwait\"}]}, {\"c\": [{\"v\": \"Mongolia\"}]}, {\"c\": [{\"v\": \"Myanmar\"}]}, {\"c\": [{\"v\": \"Ukraine\"}]}, {\"c\": [{\"v\": \"Canada\"}]}, {\"c\": [{\"v\": \"Sudan\"}]}, {\"c\": [{\"v\": \"Pakistan\"}]}, {\"c\": [{\"v\": \"Netherlands\"}]}, {\"c\": [{\"v\": \"Japan\"}]}, {\"c\": [{\"v\": \"Indonesia\"}]}, {\"c\": [{\"v\": \"Viet Nam\"}]}, {\"c\": [{\"v\": \"Malaysia\"}]}, {\"c\": [{\"v\": \"Poland\"}]}, {\"c\": [{\"v\": \"USA\"}]}, {\"c\": [{\"v\": \"Bangladesh\"}]}], \"cols\": [{\"type\": \"string\", \"id\": \"country\", \"label\": \"country\"}]},\n",
       "            {\n",
       "              pageSize: 25,\n",
       "              cssClassNames:  {\n",
       "                tableRow: 'gchart-table-row',\n",
       "                headerRow: 'gchart-table-headerrow',\n",
       "                oddTableRow: 'gchart-table-oddrow',\n",
       "                selectedTableRow: 'gchart-table-selectedrow',\n",
       "                hoverTableRow: 'gchart-table-hoverrow',\n",
       "                tableCell: 'gchart-table-cell',\n",
       "                headerCell: 'gchart-table-headercell',\n",
       "                rowNumberCell: 'gchart-table-rownumcell'\n",
       "              }\n",
       "            },\n",
       "            {source_index: 28, fields: 'country', legacy: 'true'},\n",
       "            0,\n",
       "            56);\n",
       "        }\n",
       "      );\n",
       "    </script>\n",
       "  "
      ],
      "text/plain": [
       "QueryResultsTable job_NmXaaXC3igZ-84crb0CxvzwVh6g2"
      ]
     },
     "execution_count": 43,
     "metadata": {},
     "output_type": "execute_result"
    }
   ],
   "source": [
    "%%sql -d standard\n",
    "select country\n",
    "from genome.influenza_sequence_preproc\n",
    "group by country \n"
   ]
  },
  {
   "cell_type": "code",
   "execution_count": 27,
   "metadata": {},
   "outputs": [
    {
     "name": "stdout",
     "output_type": "stream",
     "text": [
      "[1 1 1 ..., 2 2 2]\n",
      "()\n",
      "[[1 3 4 ..., 0 0 0]\n",
      " [1 3 4 ..., 0 0 0]\n",
      " [1 3 4 ..., 0 0 0]\n",
      " ..., \n",
      " [1 2 3 ..., 0 0 0]\n",
      " [1 1 1 ..., 0 0 0]\n",
      " [1 1 4 ..., 0 0 0]]\n"
     ]
    }
   ],
   "source": [
    "\n",
    "path = \"./preprocessed_dataset/\"\n",
    "filenames = [os.path.join(path, filename) for filename in os.listdir(path)]\n",
    "\n",
    "\n",
    "data = [pd.read_csv(f) for f in filenames]\n",
    "whole_data = pd.concat(data,axis=0)\n",
    "\n",
    "label = np.array(whole_data[\"species\"])\n",
    "train = np.array(whole_data.drop(\"species\", axis=1))\n",
    "\n",
    "print(label)\n",
    "print()\n",
    "print(train)"
   ]
  },
  {
   "cell_type": "code",
   "execution_count": 28,
   "metadata": {},
   "outputs": [
    {
     "ename": "AttributeError",
     "evalue": "'DataFrame' object has no attribute 'strip'",
     "output_type": "error",
     "traceback": [
      "\u001b[0;31m\u001b[0m",
      "\u001b[0;31mAttributeError\u001b[0mTraceback (most recent call last)",
      "\u001b[0;32m<ipython-input-28-89b0c180bf18>\u001b[0m in \u001b[0;36m<module>\u001b[0;34m()\u001b[0m\n\u001b[1;32m      7\u001b[0m     \u001b[0;32mif\u001b[0m \u001b[0mfirstLine\u001b[0m\u001b[0;34m:\u001b[0m\u001b[0;34m\u001b[0m\u001b[0m\n\u001b[1;32m      8\u001b[0m         \u001b[0;31m# 항목 이름들\u001b[0m\u001b[0;34m\u001b[0m\u001b[0;34m\u001b[0m\u001b[0m\n\u001b[0;32m----> 9\u001b[0;31m         \u001b[0mnames\u001b[0m \u001b[0;34m=\u001b[0m \u001b[0mline\u001b[0m\u001b[0;34m.\u001b[0m\u001b[0mstrip\u001b[0m\u001b[0;34m(\u001b[0m\u001b[0;34m)\u001b[0m\u001b[0;34m.\u001b[0m\u001b[0msplit\u001b[0m\u001b[0;34m(\u001b[0m\u001b[0;34m\";\"\u001b[0m\u001b[0;34m)\u001b[0m\u001b[0;34m\u001b[0m\u001b[0m\n\u001b[0m\u001b[1;32m     10\u001b[0m         \u001b[0mfirstLine\u001b[0m \u001b[0;34m=\u001b[0m \u001b[0mFalse\u001b[0m\u001b[0;34m\u001b[0m\u001b[0m\n\u001b[1;32m     11\u001b[0m     \u001b[0;32melse\u001b[0m\u001b[0;34m:\u001b[0m\u001b[0;34m\u001b[0m\u001b[0m\n",
      "\u001b[0;32m/usr/local/lib/python2.7/dist-packages/pandas/core/generic.pyc\u001b[0m in \u001b[0;36m__getattr__\u001b[0;34m(self, name)\u001b[0m\n\u001b[1;32m   2742\u001b[0m             \u001b[0;32mif\u001b[0m \u001b[0mname\u001b[0m \u001b[0;32min\u001b[0m \u001b[0mself\u001b[0m\u001b[0;34m.\u001b[0m\u001b[0m_info_axis\u001b[0m\u001b[0;34m:\u001b[0m\u001b[0;34m\u001b[0m\u001b[0m\n\u001b[1;32m   2743\u001b[0m                 \u001b[0;32mreturn\u001b[0m \u001b[0mself\u001b[0m\u001b[0;34m[\u001b[0m\u001b[0mname\u001b[0m\u001b[0;34m]\u001b[0m\u001b[0;34m\u001b[0m\u001b[0m\n\u001b[0;32m-> 2744\u001b[0;31m             \u001b[0;32mreturn\u001b[0m \u001b[0mobject\u001b[0m\u001b[0;34m.\u001b[0m\u001b[0m__getattribute__\u001b[0m\u001b[0;34m(\u001b[0m\u001b[0mself\u001b[0m\u001b[0;34m,\u001b[0m \u001b[0mname\u001b[0m\u001b[0;34m)\u001b[0m\u001b[0;34m\u001b[0m\u001b[0m\n\u001b[0m\u001b[1;32m   2745\u001b[0m \u001b[0;34m\u001b[0m\u001b[0m\n\u001b[1;32m   2746\u001b[0m     \u001b[0;32mdef\u001b[0m \u001b[0m__setattr__\u001b[0m\u001b[0;34m(\u001b[0m\u001b[0mself\u001b[0m\u001b[0;34m,\u001b[0m \u001b[0mname\u001b[0m\u001b[0;34m,\u001b[0m \u001b[0mvalue\u001b[0m\u001b[0;34m)\u001b[0m\u001b[0;34m:\u001b[0m\u001b[0;34m\u001b[0m\u001b[0m\n",
      "\u001b[0;31mAttributeError\u001b[0m: 'DataFrame' object has no attribute 'strip'"
     ]
    }
   ],
   "source": [
    "# xList = []\n",
    "# labels = []\n",
    "# names = []\n",
    " \n",
    "# firstLine = True\n",
    "# for line in data:\n",
    "#     if firstLine:\n",
    "#         # 항목 이름들\n",
    "#         names = line.strip().split(\";\")\n",
    "#         firstLine = False\n",
    "#     else:\n",
    "#         #Split with \";\"\n",
    "#         row = line.strip().split(\";\")\n",
    "#         labels.append(float(row[-1]))\n",
    "#         row.pop()\n",
    "#         floatRow = [float(num) for num in row]\n",
    "#         xList.append(floatRow)\n"
   ]
  },
  {
   "cell_type": "markdown",
   "metadata": {},
   "source": [
    "## 2. Train(input) : Virus RNA Sequence , Label : host_species (11종, swine 까지) \n"
   ]
  },
  {
   "cell_type": "markdown",
   "metadata": {},
   "source": [
    "#### 데이터 셔플링 및 training dataset : 12000개, test dataset : 2956개, 총 14956개 "
   ]
  },
  {
   "cell_type": "code",
   "execution_count": 29,
   "metadata": {},
   "outputs": [
    {
     "name": "stdout",
     "output_type": "stream",
     "text": [
      "('Training_data :', (10020, 2429))\n",
      "('Training_label :', (10020,))\n",
      "('Test_data :', (4936, 2429))\n",
      "('Test_label :', (4936,))\n"
     ]
    }
   ],
   "source": [
    "\n",
    "# dataset suffling \n",
    "train,label = utils.shuffle(train,label, random_state=0)\n",
    "\n",
    "seed = 7\n",
    "test_size = 0.33\n",
    "train_data, test_data, train_label, test_label = train_test_split(train, label, test_size=test_size, random_state=seed)\n",
    "\n",
    "\n",
    "print(\"Training_data :\",train_data.shape)\n",
    "print(\"Training_label :\",train_label.shape)\n",
    "\n",
    "print(\"Test_data :\",test_data.shape)\n",
    "print(\"Test_label :\",test_label.shape)\n",
    "\n",
    "\n",
    "\n"
   ]
  },
  {
   "cell_type": "markdown",
   "metadata": {},
   "source": [
    "### 3. Random Forest 모델 "
   ]
  },
  {
   "cell_type": "markdown",
   "metadata": {},
   "source": [
    "#### Random Forest 모델을 적용하여 '분류' 정확도 도출 : DNA sequence 에 따라 host_species 11종 분류 정확도 (accuracy) "
   ]
  },
  {
   "cell_type": "code",
   "execution_count": null,
   "metadata": {},
   "outputs": [],
   "source": [
    "import numpy\n",
    "from sklearn.cross_validation import train_test_split\n",
    "from sklearn import ensemble\n",
    "from sklearn.metrics import mean_squared_error\n",
    "import pylab as plot\n",
    "\n",
    "mseOos = []\n",
    "nTreeList = range(50, 500, 10)\n",
    "\n",
    "for iTrees in nTreeList:\n",
    "    depth = None\n",
    "    maxFeat = 4 #조정해볼 것\n",
    "    wineRFModel = ensemble.RandomForestClassifier(n_estimators=iTrees,\n",
    "                    max_depth=depth, max_features=maxFeat,\n",
    "                    oob_score=False, random_state=531)\n",
    "    wineRFModel.fit(train_data, train_label)\n",
    "\n",
    "    #데이터 세트에 대한 MSE 누적\n",
    "    prediction = wineRFModel.predict(test_data)\n",
    "    mseOos.append(mean_squared_error(test_label, prediction))\n",
    "    \n",
    "print(\"MSE\")\n",
    "print(mseOos[-1])\n",
    "\n",
    "#트레이닝 테스트 오차 대비  앙상블의 트리 개수 도표 그리기\n",
    "plot.plot(nTreeList, mseOos)\n",
    "plot.xlabel('Number of Trees in Ensemble')\n",
    "plot.ylabel('Mean Squared Error')\n",
    "#plot.ylim([0.0, 1.1*max(mseOob)])\n",
    "plot.show()\n",
    " \n",
    "# #피처 중요도 도표 그리기\n",
    "# featureImportance = wineRFModel.feature_importances_\n",
    " \n",
    "# #가장 높은 중요도 기준으로 스케일링\n",
    "# featureImportance = featureImportance/featureImportance.max()\n",
    "# sorted_idx = numpy.argsort(featureImportance)\n",
    "# barPos = numpy.arange(sorted_idx.shape[0])+.5\n",
    "# plot.barh(barPos, featureImportance[sorted_idx], align='center')\n",
    "# # plot.yticks(barPos, wineNames[sorted_idx])\n",
    "# plot.xlabel('Variable Importance')\n",
    "# plot.show()\n",
    " \n"
   ]
  },
  {
   "cell_type": "code",
   "execution_count": 13,
   "metadata": {},
   "outputs": [
    {
     "name": "stdout",
     "output_type": "stream",
     "text": [
      "('prediction:', array([2, 1, 3, ..., 3, 1, 2]))\n",
      "('equal btw pred and label_bool:', array([ True, False,  True, ...,  True, False,  True], dtype=bool))\n",
      "('equal btw pred and label_float:', array([ 1.,  0.,  1., ...,  1.,  0.,  1.]))\n",
      "('accuracy :', 48.714479025710425, '%')\n"
     ]
    }
   ],
   "source": [
    "# clf = RandomForestClassifier(n_jobs=2, n_estimators = 100 , random_state = 42)\n",
    "# n_jobs = cpu number, random_state = \n",
    "clf = RandomForestClassifier(n_jobs= 4, n_estimators = 200, random_state = 42, max_features = \"auto\", min_samples_leaf=50,oob_score =\"true\")\n",
    "\n",
    "# clf = RandomForestClassifier(n_jobs=2, n_estimators = 200 , random_state = 50, oob_score = TRUE, n_jobs = -1,max_features = \"auto\", min_samples_leaf=50)\n",
    "# clf = RandomForestClassifier(n_jobs=2, n_estimators = 100 , random_state = 42,min_samples_leaf = 50)\n",
    "\n",
    "clf.fit(train_data,train_label)\n",
    "pred = clf.predict(test_data)\n",
    "print(\"prediction:\", pred)\n",
    "\n",
    "equal_bool = op.eq(pred, test_label)\n",
    "print(\"equal btw pred and label_bool:\", equal_bool)\n",
    "\n",
    "equal_float = equal_bool.astype(float)\n",
    "print(\"equal btw pred and label_float:\", equal_float)\n",
    "\n",
    "accuracy = np.mean(equal_float)*100\n",
    "print(\"accuracy :\",accuracy, \"%\")\n",
    "\n",
    "# print (\"AUC - ROC : \", roc_auc_score(test_label,pred))"
   ]
  },
  {
   "cell_type": "code",
   "execution_count": null,
   "metadata": {
    "collapsed": true
   },
   "outputs": [],
   "source": []
  },
  {
   "cell_type": "code",
   "execution_count": null,
   "metadata": {
    "collapsed": true
   },
   "outputs": [],
   "source": []
  }
 ],
 "metadata": {
  "kernelspec": {
   "display_name": "Python 3",
   "language": "python",
   "name": "python3"
  },
  "language_info": {
   "codemirror_mode": {
    "name": "ipython",
    "version": 3
   },
   "file_extension": ".py",
   "mimetype": "text/x-python",
   "name": "python",
   "nbconvert_exporter": "python",
   "pygments_lexer": "ipython3",
   "version": "3.6.1"
  }
 },
 "nbformat": 4,
 "nbformat_minor": 2
}
