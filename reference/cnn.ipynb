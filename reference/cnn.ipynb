{
 "cells": [
  {
   "cell_type": "markdown",
   "metadata": {},
   "source": [
    "# Convolutional Neural Network "
   ]
  },
  {
   "cell_type": "markdown",
   "metadata": {},
   "source": [
    "## 목적 : DNA Sequence 를 통해 Host species 예측/분류"
   ]
  },
  {
   "cell_type": "markdown",
   "metadata": {},
   "source": [
    "#### * 입력 데이터 : DNA Sequence onehot vector = [batch_size, sequence_length,onehot value(type)] = [300, 2429, 4]\n",
    "#### * 라벨 데이터 : Host species onehot vector = [batch_size, species_length,onehot value(type)] = [300, 1, 11]\n",
    "#### * 출력 데이터 : Probability of Host species prediction = probability of each 11 species , size : [1,11] "
   ]
  },
  {
   "cell_type": "markdown",
   "metadata": {},
   "source": [
    "### Convolution neural network : \n",
    "    \n",
    "    conv1 = tf.layers.conv1d(features['sequence'], filters=128, kernel_size=24, padding=\"SAME\")\n",
    "    maxpool = tf.layers.max_pooling1d(conv1,2429,strides=2429,padding='valid')\n",
    "    fc = tf.layers.dense(maxpool, 32)\n",
    "    out = tf.reshape(tf.layers.dense(fc,11), [-1, 11])\n",
    "\n",
    "\n",
    "    "
   ]
  },
  {
   "cell_type": "markdown",
   "metadata": {},
   "source": [
    "<img src='./images/cnn.jpg'/>"
   ]
  },
  {
   "cell_type": "code",
   "execution_count": 4,
   "metadata": {
    "collapsed": true
   },
   "outputs": [],
   "source": [
    "import tensorflow as tf \n",
    "import numpy as np \n",
    "import csv \n",
    "import os \n",
    "import re\n",
    "import pandas as pd\n",
    "import matplotlib.pyplot as plt\n",
    "\n",
    "import numpy as np\n",
    "import matplotlib.pyplot as plt\n",
    "\n",
    "\n",
    "tf.logging.set_verbosity(tf.logging.INFO)\n",
    "tf.reset_default_graph()"
   ]
  },
  {
   "cell_type": "code",
   "execution_count": 2,
   "metadata": {
    "collapsed": true
   },
   "outputs": [],
   "source": [
    "def parser(serialized_example):\n",
    "    features = {'sequence': tf.FixedLenFeature([2429], tf.int64), \n",
    "            'species': tf.FixedLenFeature([1], tf.int64)}\n",
    "\n",
    "    parsed_feature = tf.parse_single_example(serialized_example, features)\n",
    "    sequence = tf.cast(parsed_feature['sequence'], tf.int32)\n",
    "    species = tf.cast(parsed_feature['species'], tf.int32)\n",
    "    return sequence, species\n",
    "\n"
   ]
  },
  {
   "cell_type": "code",
   "execution_count": 3,
   "metadata": {
    "collapsed": true
   },
   "outputs": [],
   "source": [
    "def input_fn_train(): \n",
    "    \n",
    "    ap = re.compile('dataset') # 발췌할 문자열 기입\n",
    "    file_dir= './' # 데이터 경로 \n",
    "    files = os.listdir(file_dir) # 경로에 해당하는 전체 파일들 \n",
    "      \n",
    "    train_data_all = list(filter(ap.search, files)) # 전체 파일들 중 발췌대상 문자열과 일치하는 파일들을 list 형태로 (데이터셋 10개)\n",
    "    \n",
    "    print(\"train:\", train_data_all)\n",
    "    \n",
    "    # 발췌된 전체 train_dataset 의 리스트 중 하나씩 빼온 것이 train_data. 이것이 데이터경로와 join 되어 filename 형성 \n",
    "    filename = [os.path.join(file_dir, train_data) for train_data in train_data_all]\n",
    "    filename.sort() \n",
    "    filename = filename[:8]\n",
    "    print(\"filename1:\",filename)\n",
    "    dataset = tf.contrib.data.TFRecordDataset(filename).map(parser)\n",
    "    dataset = dataset.batch(300)\n",
    "    itr = dataset.make_one_shot_iterator()\n",
    "\n",
    "    sequence, species  = itr.get_next()\n",
    "\n",
    "    print(\"species:\",species.shape)\n",
    "    print(\"sequence:\",sequence.shape)\n",
    "    train_data = tf.one_hot(indices=sequence, depth=4)# depth 가 가로 길이 (종류)\n",
    "    train_label =tf.reshape(tf.one_hot(indices=species,depth=11,axis=1),[-1,11])\n",
    "    print(\"train_data:\",train_data.shape)\n",
    "    print(\"train_label:\",train_label.shape)\n",
    "\n",
    "    return {'sequence': train_data}, train_label\n",
    "\n",
    "\n",
    "def input_fn_pred(): \n",
    "\n",
    "    path = \"./11_species_1.csv\"\n",
    "    data = pd.read_csv(path)\n",
    "    \n",
    "    label = data[\"species\"]\n",
    "    feature = data.drop(\"species\", axis=1)\n",
    "\n",
    "    print(\"label:\",label.shape)\n",
    "    print(\"feature:\",feature.shape)\n",
    "\n",
    "    # making one-hot vector \n",
    "    one_hot_feature= np.eye(4)\n",
    "\n",
    "    lookup = np.zeros(shape=[5,4])\n",
    "    lookup[1:5]=one_hot_feature\n",
    "\n",
    "    onehot_feature =lookup[feature]\n",
    "    print(\"onehot_Feature:\",type(onehot_feature))\n",
    "\n",
    "    \n",
    "    # making one-hot vector \n",
    "    one_hot_label= np.eye(11)\n",
    "\n",
    "    lookup = np.zeros(shape=[12,11])\n",
    "    lookup[1:12]=one_hot_label\n",
    "\n",
    "    onehot_label=lookup[label]\n",
    "    print(\"onehot_label:\",type(onehot_label))\n",
    "    print(\"onehot_feature_dtype:\",type(onehot_feature))\n",
    "\n",
    "    return onehot_feature\n",
    "\n",
    "\n",
    "def input_fn_test():\n",
    "    \n",
    "    p = re.compile('dataset') # 발췌할 문자열 기입\n",
    "    file_dir= './' # 데이터 경로 \n",
    "    files = os.listdir(file_dir) # 경로에 해당하는 전체 파일들 \n",
    "    test_data_all = list(filter(p.match, files)) # 전체 파일들 중 발췌대상 문자열과 일치하는 파일들을 list 형태로 (데이터셋 10개)\n",
    "    \n",
    "   \n",
    "    # 발췌된 전체 train_dataset 의 리스트 중 하나씩 빼온 것이 train_data. 이것이 데이터경로와 join 되어 filename 형성 \n",
    "    filename = [os.path.join(file_dir, train_data) for train_data in test_data_all]\n",
    "    filename.sort()  \n",
    "    filename = filename[8:]\n",
    "    print(\"filename2:\",filename)\n",
    "    dataset = tf.contrib.data.TFRecordDataset(filename).map(parser)\n",
    "    dataset = dataset.batch(300)\n",
    "    itr = dataset.make_one_shot_iterator()\n",
    "\n",
    "    sequence, species  = itr.get_next()\n",
    "\n",
    "    test_data = tf.one_hot(indices=sequence, depth=4)# depth 가 가로 길이 (종류)\n",
    "    test_label = tf.reshape(tf.one_hot(indices=species,depth=11,axis=1),[-1,11])\n",
    "    return {'sequence': test_data}, test_label\n"
   ]
  },
  {
   "cell_type": "code",
   "execution_count": 4,
   "metadata": {
    "collapsed": true
   },
   "outputs": [],
   "source": [
    "def model_fn(features, labels, mode): \n",
    "\n",
    "    \"\"\" model function for estimator \"\"\" \n",
    "    train_op = None \n",
    "    loss = None \n",
    "    val_metric_ops = None\n",
    "    \n",
    "    \n",
    "    if labels is not None:\n",
    "        labels_dim = int(labels.shape[-1])\n",
    "\n",
    "\n",
    "    # filters = # of kernels ,  kernel_size = window size \n",
    "    conv1 = tf.layers.conv1d(features['sequence'], filters=128, kernel_size=24, padding=\"SAME\")\n",
    "    print(\"conv1:\",conv1.shape)\n",
    "    maxpool = tf.layers.max_pooling1d(conv1,2429,strides=2429,padding='valid')\n",
    "    print(\"maxpool:\",maxpool.shape)\n",
    "    fc = tf.layers.dense(maxpool, 32)\n",
    "    print(\"fc:\",fc.shape)\n",
    "    out = tf.reshape(tf.layers.dense(fc,11), [-1, 11])\n",
    "    print(\"out:\",out.shape)\n",
    "\n",
    "    # mode = prediction\n",
    "    if mode == tf.estimator.ModeKeys.PREDICT: \n",
    "        return tf.estimator.EstimatorSpec( \n",
    "            mode=mode, \n",
    "            predictions={\n",
    "                \"prob\":tf.nn.softmax(out)})\n",
    "            \n",
    "    # mode = training\n",
    "    else: \n",
    "        global_step = tf.train.get_global_step() \n",
    "        loss = tf.losses.softmax_cross_entropy(labels, out) \n",
    "        train_op = tf.train.GradientDescentOptimizer(1e-2).minimize(loss, global_step) \n",
    "        accuracy = tf.metrics.accuracy(labels, tf.round(tf.nn.softmax(out))) \n",
    "        eval_metric_ops = {\"acc\": accuracy} \n",
    "        \n",
    "        tf.summary.scalar('Loss',loss)\n",
    "        tf.summary.scalar('Accuracy', accuracy[0])\n",
    "        \n",
    "\n",
    "        return tf.estimator.EstimatorSpec( \n",
    "            mode=mode, \n",
    "            train_op=train_op, \n",
    "            loss=loss, \n",
    "            eval_metric_ops=eval_metric_ops) "
   ]
  },
  {
   "cell_type": "code",
   "execution_count": null,
   "metadata": {
    "collapsed": true
   },
   "outputs": [],
   "source": [
    "config = tf.contrib.learn.RunConfig(save_checkpoints_steps=5,save_checkpoints_secs=None,save_summary_steps=5)\n",
    "est = tf.estimator.Estimator(model_fn, model_dir='./check_cnn/',config=config) \n",
    "\n",
    "print('config written')\n",
    "onehot_feat = input_fn_pred()\n",
    "\n",
    "onehot_feat = onehot_feat.astype(np.float32)\n",
    "print(\"one hot encoding\")\n",
    "\n",
    "print('debugging: {}'.format(onehot_feat))\n",
    "\n",
    "sequence = {'sequence': onehot_feat}\n",
    "\n",
    "print('sequence: {}'.format(sequence))\n",
    "input_fn = tf.estimator.inputs.numpy_input_fn(sequence,shuffle=False)\n",
    "\n",
    "\n",
    "print('input function: {}'.format(input_fn))\n",
    "est.train(input_fn_train,steps=75) \n",
    "est.evaluate(input_fn_test,steps=1) \n",
    "\n",
    "pred = est.predict(input_fn,predict_keys='prob')\n",
    "print(\"pred: {}\".format(pred))"
   ]
  },
  {
   "cell_type": "markdown",
   "metadata": {},
   "source": [
    "### Result of CNN trainig"
   ]
  },
  {
   "cell_type": "markdown",
   "metadata": {},
   "source": [
    "#### * training step : 75 \n",
    "#### * accuracy : 82.03 %\n",
    "#### * loss : 1.7103"
   ]
  },
  {
   "cell_type": "markdown",
   "metadata": {},
   "source": [
    "<img src='./images/loss.jpg'/>"
   ]
  },
  {
   "cell_type": "markdown",
   "metadata": {},
   "source": [
    "### Probability of prediction"
   ]
  },
  {
   "cell_type": "code",
   "execution_count": 6,
   "metadata": {},
   "outputs": [
    {
     "name": "stdout",
     "output_type": "stream",
     "text": [
      "conv1: (?, 2429, 128)\n",
      "maxpool: (?, 1, 128)\n",
      "fc: (?, 1, 32)\n",
      "out: (?, 11)\n",
      "INFO:tensorflow:Restoring parameters from ./check_cnn/model.ckpt-226\n",
      "[ 0.01063557  0.3286601   0.22248106  0.15891849  0.07249931  0.06277035\n",
      "  0.04967459  0.04242299  0.02063865  0.0195712   0.01172766]\n"
     ]
    }
   ],
   "source": [
    "result =[]\n",
    "for i in pred:\n",
    "    print(i['prob'])\n",
    "    result.append(i['prob'])"
   ]
  },
  {
   "cell_type": "markdown",
   "metadata": {},
   "source": [
    "### Prediction of host species"
   ]
  },
  {
   "cell_type": "code",
   "execution_count": 8,
   "metadata": {},
   "outputs": [
    {
     "data": {
      "image/png": "[encoded data removed]",
      "text/plain": [
       "<matplotlib.figure.Figure at 0x12474d208>"
      ]
     },
     "metadata": {},
     "output_type": "display_data"
    }
   ],
   "source": [
    "a_result = result[0]\n",
    "\n",
    "# plotting\n",
    "plt.figure(3, figsize=(20,10))\n",
    "x_axis = [i for i in range(11)]\n",
    "y_axis = a_result\n",
    "\n",
    "opacity = 0.6\n",
    "bar = plt.bar(x_axis, y_axis,alpha=opacity)\n",
    "bar[1].set_color('r')\n",
    "\n",
    "plt.xlabel('host species')\n",
    "plt.ylabel('Probability')\n",
    "plt.title('Prediction of host_species')\n",
    "plt.xticks(x_axis, ('Chicken', 'Duck', 'Mallard', 'Environment', 'Goose','Muscovy Duck','Human','Turkey','Openbill Stork','Baikal Teal','Swine') )\n",
    "plt.show()"
   ]
  },
  {
   "cell_type": "markdown",
   "metadata": {},
   "source": [
    "### 실제 데이터 값과 비교 : 실제 host species 값 ( 2 = Duck),  CNN 예측 host species 값 ( 2 = Duck, probability = 0.3286601)"
   ]
  },
  {
   "cell_type": "markdown",
   "metadata": {},
   "source": [
    "<img src='./images/excel.jpg'/>"
   ]
  },
  {
   "cell_type": "markdown",
   "metadata": {},
   "source": [
    "dataset 에서 label로 사용된 host species index "
   ]
  },
  {
   "cell_type": "code",
   "execution_count": null,
   "metadata": {
    "collapsed": true
   },
   "outputs": [],
   "source": [
    "\"IRD:Chicken/Avian\", \"1\"\n",
    "\"IRD:Duck/Avian\", \"2\"\n",
    "\"IRD:Mallard/Avian\", \"3\"\n",
    "\"IRD:Environment\", \"4\"\n",
    "\"IRD:Goose/Avian\", \"5\"\n",
    "\"IRD:Muscovy Duck/Avian\", \"6\"\n",
    "\"IRD:Human\", \"7\"\n",
    "\"IRD:Turkey/Avian\", \"8\" \n",
    "\"IRD:Openbill Stork/Avian\", \"9\"\n",
    "\"IRD:Baikal Teal/Avian\", \"10\"\n",
    "\"IRD:Swine\", \"11\""
   ]
  }
 ],
 "metadata": {
  "kernelspec": {
   "display_name": "Python 3",
   "language": "python",
   "name": "python3"
  },
  "language_info": {
   "codemirror_mode": {
    "name": "ipython",
    "version": 3
   },
   "file_extension": ".py",
   "mimetype": "text/x-python",
   "name": "python",
   "nbconvert_exporter": "python",
   "pygments_lexer": "ipython3",
   "version": "3.6.1"
  }
 },
 "nbformat": 4,
 "nbformat_minor": 2
}
